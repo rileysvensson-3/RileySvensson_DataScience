{
 "cells": [
  {
   "cell_type": "raw",
   "id": "a54cf671",
   "metadata": {},
   "source": [
    "---\n",
    "self-contained: true\n",
    "title: \"Keras Deeplearning Example #1: Leveraging NLP for Sentiment Analysis\"\n",
    "author: \"Riley Svensson\"\n",
    "format:\n",
    "    html:\n",
    "        theme: journal\n",
    "        toc: true\n",
    "        toc-depth: 2\n",
    "        number-sections: true\n",
    "---"
   ]
  },
  {
   "cell_type": "markdown",
   "id": "11930f60",
   "metadata": {},
   "source": [
    "## Introduction\n",
    "\n",
    "In a constantly developing world of modeling, Keras has become a trailblazer in open-source software, providing a Python interface for producing artificial neural networks. By introducing these deep-learning techniques and complex pattern recognition algorithms, data scientists have been able to apply code to answer and solve many niche use cases that were previously unreasonable to achieve.  These applications include a few examples like Image Classification, `Natural Language Processing (NLP)`, Audio Processing, and Anonmaly Detection, which can lead to powerful models that can be utilized to make actionable decisions, reduce significant analysis time and complete tasks that were previously only possible by leveraging substantial human brainpower.  \n",
    "\n",
    "Specifically, organizations like law enforcement agencies can utilize these models for facial or object detection, helping them locate individuals of interest, while a more business oriented application could be to perform a sentiment analysis on a company's mass of textual reviews, leveraging the power of NLP's. In this example walk-through we will focus on the latter, and conduct a **sentiment analysis of Amazon reviews, capable of determining whether a review was positive or negative based on the text it contains**."
   ]
  },
  {
   "cell_type": "markdown",
   "id": "4b54d526",
   "metadata": {},
   "source": [
    "### Data Preparation\n",
    "\n",
    "First, we need to load and prepare our dataset. This involves reading the data from CSV files, ensuring that it is loaded correctly, and re-coding the labels to make them more suitable for our machine learning use case. In this first chunk of code, we read-in each training and test data CSV's into their own dataframe, specifying the three column names in order: `polarity`, `title`, and `text`, which was determined from inspecting the Kaggle datacard supplied with our set."
   ]
  },
  {
   "cell_type": "code",
   "execution_count": 35,
   "id": "201a3ada",
   "metadata": {},
   "outputs": [],
   "source": [
    "import os\n",
    "import pandas as pd\n",
    "import tensorflow as tf\n",
    "from tensorflow import keras\n",
    "from keras import layers, models\n",
    "\n",
    "# Load the dataset without headers and assign column names\n",
    "train_df = pd.read_csv('/Users/rileysvensson/Downloads/archive (6)/train.csv', header=None, names=['polarity', 'title', 'text'])\n",
    "test_df = pd.read_csv('/Users/rileysvensson/Downloads/archive (6)/test.csv', header=None, names=['polarity', 'title', 'text'])"
   ]
  },
  {
   "cell_type": "markdown",
   "id": "d74cc42e",
   "metadata": {},
   "source": [
    "##### Sanity Check #1: View Training Data"
   ]
  },
  {
   "cell_type": "code",
   "execution_count": 44,
   "id": "77feceab",
   "metadata": {},
   "outputs": [
    {
     "name": "stdout",
     "output_type": "stream",
     "text": [
      "Number of rows in train_df: 3600000\n"
     ]
    },
    {
     "data": {
      "text/html": [
       "<div>\n",
       "<style scoped>\n",
       "    .dataframe tbody tr th:only-of-type {\n",
       "        vertical-align: middle;\n",
       "    }\n",
       "\n",
       "    .dataframe tbody tr th {\n",
       "        vertical-align: top;\n",
       "    }\n",
       "\n",
       "    .dataframe thead th {\n",
       "        text-align: right;\n",
       "    }\n",
       "</style>\n",
       "<table border=\"1\" class=\"dataframe\">\n",
       "  <thead>\n",
       "    <tr style=\"text-align: right;\">\n",
       "      <th></th>\n",
       "      <th>polarity</th>\n",
       "      <th>title</th>\n",
       "      <th>text</th>\n",
       "      <th>sentiment_positive</th>\n",
       "    </tr>\n",
       "  </thead>\n",
       "  <tbody>\n",
       "    <tr>\n",
       "      <th>0</th>\n",
       "      <td>2</td>\n",
       "      <td>Stuning even for the non-gamer</td>\n",
       "      <td>This sound track was beautiful! It paints the ...</td>\n",
       "      <td>1</td>\n",
       "    </tr>\n",
       "    <tr>\n",
       "      <th>1</th>\n",
       "      <td>2</td>\n",
       "      <td>The best soundtrack ever to anything.</td>\n",
       "      <td>I'm reading a lot of reviews saying that this ...</td>\n",
       "      <td>1</td>\n",
       "    </tr>\n",
       "    <tr>\n",
       "      <th>2</th>\n",
       "      <td>2</td>\n",
       "      <td>Amazing!</td>\n",
       "      <td>This soundtrack is my favorite music of all ti...</td>\n",
       "      <td>1</td>\n",
       "    </tr>\n",
       "    <tr>\n",
       "      <th>3</th>\n",
       "      <td>2</td>\n",
       "      <td>Excellent Soundtrack</td>\n",
       "      <td>I truly like this soundtrack and I enjoy video...</td>\n",
       "      <td>1</td>\n",
       "    </tr>\n",
       "    <tr>\n",
       "      <th>4</th>\n",
       "      <td>2</td>\n",
       "      <td>Remember, Pull Your Jaw Off The Floor After He...</td>\n",
       "      <td>If you've played the game, you know how divine...</td>\n",
       "      <td>1</td>\n",
       "    </tr>\n",
       "  </tbody>\n",
       "</table>\n",
       "</div>"
      ],
      "text/plain": [
       "   polarity                                              title  \\\n",
       "0         2                     Stuning even for the non-gamer   \n",
       "1         2              The best soundtrack ever to anything.   \n",
       "2         2                                           Amazing!   \n",
       "3         2                               Excellent Soundtrack   \n",
       "4         2  Remember, Pull Your Jaw Off The Floor After He...   \n",
       "\n",
       "                                                text  sentiment_positive  \n",
       "0  This sound track was beautiful! It paints the ...                   1  \n",
       "1  I'm reading a lot of reviews saying that this ...                   1  \n",
       "2  This soundtrack is my favorite music of all ti...                   1  \n",
       "3  I truly like this soundtrack and I enjoy video...                   1  \n",
       "4  If you've played the game, you know how divine...                   1  "
      ]
     },
     "execution_count": 44,
     "metadata": {},
     "output_type": "execute_result"
    }
   ],
   "source": [
    "# Get the count of rows in the train_df, should be 3600000\n",
    "print(f\"Number of rows in train_df: {train_df.shape[0]}\")\n",
    "\n",
    "# Display the train_df to ensure it loaded correctly with our column labels and \n",
    "train_df.head(5)"
   ]
  },
  {
   "cell_type": "markdown",
   "id": "4158613a",
   "metadata": {},
   "source": [
    "\n",
    "The next step we take is to transform our target variable in which we want to predict, which is 'polarity' or aka the sentiment that the reviewer produces with their textual feeback.  The transformation applied in technically not needed, however typically in data science, we build models to predict in the form of 1's, indicating something of interest occuring, and 0, indicating the opposite.  In our case we could've left our target variable in the form of 2 for positive reviews, and 1 for negative reviews, but for best practice and clearly defined interpretations, we re-coded this variable to binarily represent positive sentiment.  **Simply put, positive reviews will be predicted as 1 and negative reviews will be 0.** To ensure a correct application of this process, we created a new variable named, `sentiment_positive` to hold the new 1's and 0's, as a way to be able to visually check that the lambda function kept all the data's patterns and only changed the labels.  The next lines of code extract the text and the re-coded sentiment labels from the DataFrame into separate arrays, which are then used for training and testing the machine learning model. \n"
   ]
  },
  {
   "cell_type": "code",
   "execution_count": 37,
   "id": "adfbd4fc",
   "metadata": {},
   "outputs": [
    {
     "data": {
      "text/html": [
       "<div>\n",
       "<style scoped>\n",
       "    .dataframe tbody tr th:only-of-type {\n",
       "        vertical-align: middle;\n",
       "    }\n",
       "\n",
       "    .dataframe tbody tr th {\n",
       "        vertical-align: top;\n",
       "    }\n",
       "\n",
       "    .dataframe thead th {\n",
       "        text-align: right;\n",
       "    }\n",
       "</style>\n",
       "<table border=\"1\" class=\"dataframe\">\n",
       "  <thead>\n",
       "    <tr style=\"text-align: right;\">\n",
       "      <th></th>\n",
       "      <th>polarity</th>\n",
       "      <th>title</th>\n",
       "      <th>text</th>\n",
       "      <th>sentiment_positive</th>\n",
       "    </tr>\n",
       "  </thead>\n",
       "  <tbody>\n",
       "    <tr>\n",
       "      <th>0</th>\n",
       "      <td>2</td>\n",
       "      <td>Stuning even for the non-gamer</td>\n",
       "      <td>This sound track was beautiful! It paints the ...</td>\n",
       "      <td>1</td>\n",
       "    </tr>\n",
       "    <tr>\n",
       "      <th>1</th>\n",
       "      <td>2</td>\n",
       "      <td>The best soundtrack ever to anything.</td>\n",
       "      <td>I'm reading a lot of reviews saying that this ...</td>\n",
       "      <td>1</td>\n",
       "    </tr>\n",
       "    <tr>\n",
       "      <th>2</th>\n",
       "      <td>2</td>\n",
       "      <td>Amazing!</td>\n",
       "      <td>This soundtrack is my favorite music of all ti...</td>\n",
       "      <td>1</td>\n",
       "    </tr>\n",
       "    <tr>\n",
       "      <th>3</th>\n",
       "      <td>2</td>\n",
       "      <td>Excellent Soundtrack</td>\n",
       "      <td>I truly like this soundtrack and I enjoy video...</td>\n",
       "      <td>1</td>\n",
       "    </tr>\n",
       "    <tr>\n",
       "      <th>4</th>\n",
       "      <td>2</td>\n",
       "      <td>Remember, Pull Your Jaw Off The Floor After He...</td>\n",
       "      <td>If you've played the game, you know how divine...</td>\n",
       "      <td>1</td>\n",
       "    </tr>\n",
       "    <tr>\n",
       "      <th>5</th>\n",
       "      <td>2</td>\n",
       "      <td>an absolute masterpiece</td>\n",
       "      <td>I am quite sure any of you actually taking the...</td>\n",
       "      <td>1</td>\n",
       "    </tr>\n",
       "    <tr>\n",
       "      <th>6</th>\n",
       "      <td>1</td>\n",
       "      <td>Buyer beware</td>\n",
       "      <td>This is a self-published book, and if you want...</td>\n",
       "      <td>0</td>\n",
       "    </tr>\n",
       "    <tr>\n",
       "      <th>7</th>\n",
       "      <td>2</td>\n",
       "      <td>Glorious story</td>\n",
       "      <td>I loved Whisper of the wicked saints. The stor...</td>\n",
       "      <td>1</td>\n",
       "    </tr>\n",
       "    <tr>\n",
       "      <th>8</th>\n",
       "      <td>2</td>\n",
       "      <td>A FIVE STAR BOOK</td>\n",
       "      <td>I just finished reading Whisper of the Wicked ...</td>\n",
       "      <td>1</td>\n",
       "    </tr>\n",
       "    <tr>\n",
       "      <th>9</th>\n",
       "      <td>2</td>\n",
       "      <td>Whispers of the Wicked Saints</td>\n",
       "      <td>This was a easy to read book that made me want...</td>\n",
       "      <td>1</td>\n",
       "    </tr>\n",
       "  </tbody>\n",
       "</table>\n",
       "</div>"
      ],
      "text/plain": [
       "   polarity                                              title  \\\n",
       "0         2                     Stuning even for the non-gamer   \n",
       "1         2              The best soundtrack ever to anything.   \n",
       "2         2                                           Amazing!   \n",
       "3         2                               Excellent Soundtrack   \n",
       "4         2  Remember, Pull Your Jaw Off The Floor After He...   \n",
       "5         2                            an absolute masterpiece   \n",
       "6         1                                       Buyer beware   \n",
       "7         2                                     Glorious story   \n",
       "8         2                                   A FIVE STAR BOOK   \n",
       "9         2                      Whispers of the Wicked Saints   \n",
       "\n",
       "                                                text  sentiment_positive  \n",
       "0  This sound track was beautiful! It paints the ...                   1  \n",
       "1  I'm reading a lot of reviews saying that this ...                   1  \n",
       "2  This soundtrack is my favorite music of all ti...                   1  \n",
       "3  I truly like this soundtrack and I enjoy video...                   1  \n",
       "4  If you've played the game, you know how divine...                   1  \n",
       "5  I am quite sure any of you actually taking the...                   1  \n",
       "6  This is a self-published book, and if you want...                   0  \n",
       "7  I loved Whisper of the wicked saints. The stor...                   1  \n",
       "8  I just finished reading Whisper of the Wicked ...                   1  \n",
       "9  This was a easy to read book that made me want...                   1  "
      ]
     },
     "execution_count": 37,
     "metadata": {},
     "output_type": "execute_result"
    }
   ],
   "source": [
    "# Re-code the labels to be more appropriate for a ML test: 0 for negative sentiment (polarity 1), 1 for positive (polarity 2)\n",
    "\n",
    "# Create a new column for the recoded sentiment labels\n",
    "train_df['sentiment_positive'] = train_df['polarity'].apply(lambda x: 0 if x == 1 else 1)\n",
    "test_df['sentiment_positive'] = test_df['polarity'].apply(lambda x: 0 if x == 1 else 1)\n",
    "\n",
    "# Extract the relevant columns for modeling, x (text) and y (sentiment positive)\n",
    "train_texts = train_df['text'].values\n",
    "train_labels = train_df['sentiment_positive'].values\n",
    "\n",
    "test_texts = test_df['text'].values\n",
    "test_labels = test_df['sentiment_positive'].values\n",
    "\n",
    "# View df to ensure that polarity was correctly re-coded (2's are now 1's and 1's are 0's )\n",
    "train_df.head(10)"
   ]
  },
  {
   "cell_type": "markdown",
   "id": "55d91033",
   "metadata": {},
   "source": [
    "##### Sanity Check #2: View Value Counts of Both Datasets"
   ]
  },
  {
   "cell_type": "code",
   "execution_count": 38,
   "id": "9fb65d9f",
   "metadata": {},
   "outputs": [
    {
     "name": "stdout",
     "output_type": "stream",
     "text": [
      "1    1800000\n",
      "0    1800000\n",
      "Name: sentiment_positive, dtype: int64\n",
      "1    200000\n",
      "0    200000\n",
      "Name: sentiment_positive, dtype: int64\n"
     ]
    }
   ],
   "source": [
    "# Verify the distribution of the new sentiment_positive column, which should be 1,800,000 for each in train and 200,000 each in test\n",
    "print(train_df['sentiment_positive'].value_counts())\n",
    "print(test_df['sentiment_positive'].value_counts())"
   ]
  },
  {
   "cell_type": "markdown",
   "id": "62e37637",
   "metadata": {},
   "source": [
    "### Data Standarization & Vectorization\n",
    "\n",
    "Next, we needed to standardize and vectorize the text data, which we did so utilizing our own function and keras built-in vectorization layer. Standardization involves cleaning the text data by removing HTML tags like breaks ( < br >) and punctuation using regular expressions from the `re` package and string manipulation functions from the `string` package, to ensure the text is in a consistent format before modeling. Vectorization transforms the text data into numerical form so that our neural network can process it, and we use Keras's TextVectorization layer for this purpose."
   ]
  },
  {
   "cell_type": "code",
   "execution_count": 39,
   "id": "0c0cc46c",
   "metadata": {},
   "outputs": [],
   "source": [
    "import re \n",
    "import string\n",
    "\n",
    "# Define a custom standardization function to clean the text data\n",
    "def custom_standardization(input_data):\n",
    "    lowercase = tf.strings.lower(input_data)\n",
    "    stripped_html = tf.strings.regex_replace(lowercase, \"<br />\", \" \")\n",
    "    return tf.strings.regex_replace(stripped_html, f\"[{re.escape(string.punctuation)}]\", \"\")\n",
    "\n",
    "# Instantiate a TextVectorization layer to process the text data\n",
    "max_features = 20000\n",
    "sequence_length = 500\n",
    "\n",
    "vectorize_layer = layers.TextVectorization(\n",
    "    standardize=custom_standardization,\n",
    "    max_tokens=max_features,\n",
    "    output_mode=\"int\",\n",
    "    output_sequence_length=sequence_length\n",
    ")\n",
    "\n",
    "# Adapt the vectorize_layer to the training text data\n",
    "vectorize_layer.adapt(train_texts)\n"
   ]
  },
  {
   "cell_type": "markdown",
   "id": "ec5eaccc",
   "metadata": {},
   "source": [
    "After vectorizing the text data, we transformed the raw text into numerical sequences that can be fed into a neural network for training. This step is crucial because neural networks require numerical input to perform calculations. The `TextVectorization` layer in Keras helps automate this process by converting text into integer sequences, where each integer represents a specific token in the vocabulary, allowing us to efficiently train our model on the preprocessed text data."
   ]
  },
  {
   "cell_type": "code",
   "execution_count": 40,
   "id": "27639d97",
   "metadata": {},
   "outputs": [],
   "source": [
    "# Convert the text data to integer sequences\n",
    "train_texts = vectorize_layer(tf.constant(train_texts))\n",
    "test_texts = vectorize_layer(tf.constant(test_texts))"
   ]
  },
  {
   "cell_type": "markdown",
   "id": "e546eea3",
   "metadata": {},
   "source": [
    "## Modeling & Evaluation"
   ]
  },
  {
   "cell_type": "markdown",
   "id": "f8d9bd9e",
   "metadata": {},
   "source": [
    "Now that we have our preprocessed data, we can build and compile the neural network model. This model consists of an embedding layer for word embeddings, convolutional layers for feature extraction, and dense layers for classification. We use a 1D convolutional neural network (CNN) for this task.  A CNN is a type of deep learning model that is particularly effective for tasks involving spatial data, like images or text sequences, because it can automatically detect and learn hierarchical patterns and features from the input data.  **Due to the mass of data accessible to us, we only needed one epoch to train the model effectively an achieve a test accuracy of 92.44%.**  The term \"epoch\" refers to one cycle through the full training dataset.  In our case, a single epoch was sufficient for the model to learn and accurately predict on unfamiliar data, which is the end goal of a modeling application."
   ]
  },
  {
   "cell_type": "code",
   "execution_count": 42,
   "id": "be8e20fa",
   "metadata": {},
   "outputs": [
    {
     "name": "stdout",
     "output_type": "stream",
     "text": [
      "\u001b[1m90000/90000\u001b[0m \u001b[32m━━━━━━━━━━━━━━━━━━━━\u001b[0m\u001b[37m\u001b[0m \u001b[1m4969s\u001b[0m 55ms/step - accuracy: 0.8931 - loss: 0.2621 - val_accuracy: 0.9262 - val_loss: 0.1926\n",
      "\u001b[1m12500/12500\u001b[0m \u001b[32m━━━━━━━━━━━━━━━━━━━━\u001b[0m\u001b[37m\u001b[0m \u001b[1m181s\u001b[0m 14ms/step - accuracy: 0.9229 - loss: 0.2002\n"
     ]
    },
    {
     "data": {
      "text/plain": [
       "[0.19694775342941284, 0.9244725108146667]"
      ]
     },
     "execution_count": 42,
     "metadata": {},
     "output_type": "execute_result"
    }
   ],
   "source": [
    "# Create and compile the model\n",
    "model = models.Sequential([\n",
    "    layers.Embedding(max_features, 128),\n",
    "    layers.Dropout(0.5),\n",
    "    layers.Conv1D(128, 7, activation='relu'),\n",
    "    layers.MaxPooling1D(pool_size=2),\n",
    "    layers.Conv1D(128, 7, activation='relu'),\n",
    "    layers.GlobalMaxPooling1D(),\n",
    "    layers.Dense(128, activation='relu'),\n",
    "    layers.Dropout(0.5),\n",
    "    layers.Dense(1, activation='sigmoid')\n",
    "])\n",
    "\n",
    "#Compile model\n",
    "\n",
    "model.compile(optimizer='adam', loss='binary_crossentropy', metrics=['accuracy'])\n",
    "\n",
    "# Train the model using the training data\n",
    "history = model.fit(train_texts, train_labels, epochs=1, validation_split=0.2)\n",
    "\n",
    "# Evaluate the model using the test data\n",
    "model.evaluate(test_texts, test_labels)"
   ]
  },
  {
   "cell_type": "markdown",
   "id": "226a9a95",
   "metadata": {},
   "source": [
    "### Discussion of Metrics:\n",
    "\n",
    "In this model, we use `binary_crossentropy` to measure our loss (or error) because we are dealing with a binary classification problem (positive vs. negative sentiment), while the optimizing function used is adam, which is an efficient gradient descent algorithm. The key metric we focus on in this example is accuracy, which tells us the proportion of correctly classified reviews. In this case, our model achieved an accuracy of approximately 92%, meaning that the model correctly identifies whether a review is positive or negative 92% of the time, when applied to the test_set of unseen reviews.\n",
    "\n",
    "### Streamline the Process: End-to-End Model\n",
    "\n",
    "To further enhance usability, we created a final end-to-end model capable of processing raw text inputs, which allows reviews to be directly input into our model, and receive a predicted sentiment as our output. This model includes all preprocessing steps within the neural network itself, allowing it to handle raw text data directly, making it easier to deploy in real-world applications."
   ]
  },
  {
   "cell_type": "code",
   "execution_count": 47,
   "id": "8de35105",
   "metadata": {},
   "outputs": [
    {
     "name": "stdout",
     "output_type": "stream",
     "text": [
      "\u001b[1m12500/12500\u001b[0m \u001b[32m━━━━━━━━━━━━━━━━━━━━\u001b[0m\u001b[37m\u001b[0m \u001b[1m186s\u001b[0m 15ms/step - accuracy: 0.9229 - loss: 0.0000e+00\n"
     ]
    },
    {
     "data": {
      "text/plain": [
       "[0.0, 0.0, 0.9244725108146667, 0.9244725108146667]"
      ]
     },
     "execution_count": 47,
     "metadata": {},
     "output_type": "execute_result"
    }
   ],
   "source": [
    "# Create an end-to-end model capable of processing raw strings\n",
    "inputs = tf.keras.Input(shape=(1,), dtype=\"string\")\n",
    "indices = vectorize_layer(inputs)\n",
    "outputs = model(indices)\n",
    "\n",
    "end_to_end_model = tf.keras.Model(inputs, outputs)\n",
    "end_to_end_model.compile(optimizer='adam', loss='binary_crossentropy', metrics=['accuracy'])\n",
    "\n",
    "# Ensure test_texts are in the correct shape (raw strings)\n",
    "test_texts = test_df['text'].values\n",
    "\n",
    "# Test it with the test data\n",
    "end_to_end_model.evaluate(tf.data.Dataset.from_tensor_slices((test_texts, test_labels)).batch(32))\n"
   ]
  },
  {
   "cell_type": "markdown",
   "id": "d0da76e9",
   "metadata": {},
   "source": [
    "## Conclusion\n",
    "\n",
    "Achieving 92% accuracy indicates that our model is highly effective at distinguishing between positive and negative reviews. For practical applications, this level of accuracy can significantly aid businesses in understanding their customers' sentiment, which in turn can lead to many actionable decisions. For example, businesses can:\n",
    "\n",
    "1) Monitor Customer Feedback: By quickly identifying and responding to negative reviews, improving their customer service and satisfaction. In doing this, businesses can enhance their reputation and retain customers by promptly addressing their concerns.\n",
    "\n",
    "2) Perform Market Analysis: In analyzing trends in customer sentiment over time, business can better inform their marketing strategies.  Understanding how customers feel about different products or services allows them to tailor their marketing efforts more effectively, targeting areas that resonate positively with their audience.\n",
    "\n",
    "3) Improvement Products: Gaining insights into specific features or aspects of products that customers feel strongly about, whether positively or negatively could be invaluable for product development teams to focus on enhancing features that customers love and addressing issues that lead to dissatisfaction. \n",
    "\n",
    "In summary, the model's ability to accurately classify sentiment provides businesses with powerful insights into customer opinions, enabling them to make data-driven decisions that can enhance customer experience, optimize marketing strategies, and drive product improvements.  As a final reminder, this was only possible by leveraging Keras's NLP best practices and structure, which can be applied to countless other data science use cases. "
   ]
  },
  {
   "cell_type": "markdown",
   "id": "2553bbb8",
   "metadata": {},
   "source": [
    "## Sources\n",
    "\n",
    "[Keras Example - NLP Sentiment Analysis](https://keras.io/examples/nlp/text_classification_from_scratch/)\n",
    "\n",
    "[Amazon Reviews - Kaggle Data](https://www.kaggle.com/datasets/kritanjalijain/amazon-reviews/data)"
   ]
  },
  {
   "cell_type": "code",
   "execution_count": null,
   "id": "20c65492",
   "metadata": {},
   "outputs": [],
   "source": []
  }
 ],
 "metadata": {
  "kernelspec": {
   "display_name": "Python 3 (ipykernel)",
   "language": "python",
   "name": "python3"
  },
  "language_info": {
   "codemirror_mode": {
    "name": "ipython",
    "version": 3
   },
   "file_extension": ".py",
   "mimetype": "text/x-python",
   "name": "python",
   "nbconvert_exporter": "python",
   "pygments_lexer": "ipython3",
   "version": "3.11.4"
  }
 },
 "nbformat": 4,
 "nbformat_minor": 5
}
